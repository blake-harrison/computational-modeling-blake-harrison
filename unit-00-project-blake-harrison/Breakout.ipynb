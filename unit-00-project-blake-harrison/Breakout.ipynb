{
 "cells": [
  {
   "cell_type": "markdown",
   "metadata": {},
   "source": [
    "# Breakout\n",
    "By Blake Harrison  \n",
    "\n",
    "### Preface\n",
    "The way I made this notebook was by basically taking chunks of code out of the program and explaining what they do, and the reasoning behind them.  \n",
    "As a result, there are a bunch of code cells that aren't intened to actually be run.  \n",
    "The full program can be found in the last cell. All you need to do is run that cell by itself, and everything should work. The rest of the code cells are just for explanation purposes.  \n",
    "\n"
   ]
  },
  {
   "cell_type": "markdown",
   "metadata": {},
   "source": [
    "## Libraries (and preliminary ideas)"
   ]
  },
  {
   "cell_type": "code",
   "execution_count": null,
   "metadata": {},
   "outputs": [],
   "source": [
    "import numpy as np\n",
    "import random as rand\n",
    "from vpython import *\n",
    "\n",
    "scene1 = canvas(title=\"Breakout\")"
   ]
  },
  {
   "cell_type": "markdown",
   "metadata": {},
   "source": [
    "The import statements bring in the libraries necessary for the calculations made in this project, as well as the vpython base that allows the whole thing to run.   \n",
    "The next statement sets up the vpython scene, which, again, is necessary for the program to run.  \n",
    "My initial idea for this project was to use the gas collision program we used previously as a basis for my program. More specifically, it contained four bits of code that I wanted to use: the constants, the setup for the walls, the sphere, and the reflections off of the walls.  \n",
    "I'll talk about those more later.  \n"
   ]
  },
  {
   "cell_type": "markdown",
   "metadata": {},
   "source": [
    "## Constants/Variables\n",
    "\n",
    "As I stated earlier, I thought it would make my life easier to use the constants from the gas. I liked the scale of that project (the relationship in size between the walls and ball), so using that as a base allowed me to start the project without spending time trying to find a proper size scale that made sense."
   ]
  },
  {
   "cell_type": "code",
   "execution_count": 1,
   "metadata": {},
   "outputs": [],
   "source": [
    "#uses constants and wall objects from the gas collision as a base\n",
    "m = 1.7e-27\n",
    "R = 0.5e-10\n",
    "L = 40 * R\n",
    "thick = L/100\n",
    "cols = 6\n",
    "boxes = []"
   ]
  },
  {
   "cell_type": "markdown",
   "metadata": {},
   "source": [
    "The other variables I added were cols, which is the number of columns, and the boxes list, which holds the information about each box (or brick) in the game. If you look at earlier versions of the source code in github, I originally had another variable for the number of rows, but I removed the need for that in a later step."
   ]
  },
  {
   "cell_type": "markdown",
   "metadata": {},
   "source": [
    "## Setting the Scene"
   ]
  },
  {
   "cell_type": "code",
   "execution_count": null,
   "metadata": {},
   "outputs": [],
   "source": [
    "#creates walls\n",
    "Lwall = box(pos = vec(-L/2,0,0), size = vec(thick, L, 0), color = color.white)\n",
    "Rwall = box(pos = vec(L/2,0,0), size = vec(thick, L, 0), color = color.white)\n",
    "Bwall = box(pos = vec(0,-L/2,0), size = vec(L, thick, 0), color = color.white)\n",
    "Twall = box(pos = vec(0, L/2, 0), size = vec(L, thick, 0), color=color.white)\n",
    "\n",
    "#creates boxes\n",
    "for x in range(0,cols):\n",
    "    newbox0 = box(pos = vec((-L/2)+(x*(L/6))+L/12,(0+(0*L/10)),0), size = vec(L/6,L/10,0), color = color.cyan)\n",
    "    newbox1 = box(pos = vec((-L/2)+(x*(L/6))+L/12,(0+(1*L/10)),0), size = vec(L/6,L/10,0), color = color.green)\n",
    "    newbox2 = box(pos = vec((-L/2)+(x*(L/6))+L/12,(0+(2*L/10)),0), size = vec(L/6,L/10,0), color = color.yellow)\n",
    "    newbox3 = box(pos = vec((-L/2)+(x*(L/6))+L/12,(0+(3*L/10)),0), size = vec(L/6,L/10,0), color = color.orange)\n",
    "    newbox4 = box(pos = vec((-L/2)+(x*(L/6))+L/12,(0+(4*L/10)),0), size = vec(L/6,L/10,0), color = color.red)\n",
    "    boxes.append(newbox0)\n",
    "    boxes.append(newbox1)\n",
    "    boxes.append(newbox2)\n",
    "    boxes.append(newbox3)\n",
    "    boxes.append(newbox4)\n",
    "\n",
    "#ball\n",
    "ball = sphere(pos = vec(0,-L/4,0), radius = R, color = color.red)\n"
   ]
  },
  {
   "cell_type": "markdown",
   "metadata": {},
   "source": [
    "### Walls\n",
    "For the walls, I used basically the same setup that was used in the gas collision program. The one change I made was to make the walls two-dimensional, by setting the size in the z-direction to 0.  \n",
    "\n",
    "### Boxes\n",
    "The boxes are what the ball will bounce into and remove. Originally, this was two for loops (the second looping over the rows variable that I eventually removed), but that made every box the same color. In the interest of adding some variety, I instead added five separate statements that generates a box of a different color in each row.  \n",
    "  \n",
    "  \n",
    "The boxes themselves have been configured to fill almost exactly the space available to them.  \n",
    "  \n",
    "I knew that the width of the boundary wall was L. Because I wanted six rows, the width of each box is L/6. The height of the box is also L, but I wanted to only use the top half for the boxes. Thus, each box was given a height of L/10, to allow for five rows (which is equal to (L/2)/5).  \n",
    "  \n",
    "The position fo the boxes starts at -L/2 for the x-direction, which is the edge of the left boundary. It increments for every iteration of the loop by the size of each box, stacking them next to eachother. Similarly the y-position starts at 0 (the center of the boundary walls) and increments up. Because I used multiple statements to generate boxes of different colors, the iteration for the y-direction is hard-coded in.\n",
    "\n",
    "### Ball\n",
    "The ball is also pretty much the same as it was in the gas collision program."
   ]
  },
  {
   "cell_type": "markdown",
   "metadata": {},
   "source": [
    "## Final Setup"
   ]
  },
  {
   "cell_type": "code",
   "execution_count": null,
   "metadata": {},
   "outputs": [],
   "source": [
    "#initial velocity\n",
    "s = 3000\n",
    "ball.v = s*hat(vec(2*rand.random()-1, 2*rand.random()-1, 0))\n",
    "\n",
    "#time\n",
    "t = 0\n",
    "dt = R/mag(ball.v)/10\n",
    "\n",
    "still_left = True\n",
    "\n",
    "scene1.pause()"
   ]
  },
  {
   "cell_type": "markdown",
   "metadata": {},
   "source": [
    "### Velocity\n",
    "The velocity is, again, mostly lifted from the gas collision program. I wanted to do basically the same thing that program did with the ball (starting it's velocity in a random direction) so it made sense to not reinvent the wheel here.\n",
    "\n",
    "### Time\n",
    "The time is also from the gas collision program, as I wanted the motion and speed to be similar to that program. I did slow the rate of the program somewhat, but that comes in the while loop with the rate() function.\n",
    "\n",
    "### still_left\n",
    "The variable still_left is used for the control of my while loop, and I will touch on it in there."
   ]
  },
  {
   "cell_type": "markdown",
   "metadata": {},
   "source": [
    "## While Loop"
   ]
  },
  {
   "cell_type": "code",
   "execution_count": null,
   "metadata": {},
   "outputs": [],
   "source": [
    "#starts scene\n",
    "while still_left:\n",
    "    rate(250)\n",
    "\n",
    "    #sets the loop control variable\n",
    "    #if an iteration of the loop completes with this set to false, the program ends\n",
    "    #this should only occur if all the boxes have been removed\n",
    "    still_left = False\n",
    "    \n",
    "    #updates ball's position, using the current velocity    \n",
    "    ball.pos = ball.pos + ball.v*dt"
   ]
  },
  {
   "cell_type": "markdown",
   "metadata": {},
   "source": [
    "As you can see, still_left is used to determine if there are any boxes left that have not been hit. At the start of each iteration of the loop, it is set to False. Later, when it goes through the collision detection, it sets still_left to True if there is at least one box still left.  \n",
    "\n",
    "You can also see the code to update the ball's position, which simply adds the ball's velocity times the time step to it's current position."
   ]
  },
  {
   "cell_type": "markdown",
   "metadata": {},
   "source": [
    "## Wall Reflection"
   ]
  },
  {
   "cell_type": "code",
   "execution_count": null,
   "metadata": {},
   "outputs": [],
   "source": [
    "if (abs(ball.pos.x) > L/2): #reflect in x-direction\n",
    "    ball.v.x = -ball.v.x\n",
    "if (ball.pos.y > L/2): #reflect in y-direction\n",
    "    ball.v.y = -ball.v.y\n",
    "if (ball.pos.y < - L/2): #reflects w/ random direction off the bottom\n",
    "    ball.v = s*hat(vec(2*rand.random()-1, abs(2*rand.random()-1),0))"
   ]
  },
  {
   "cell_type": "markdown",
   "metadata": {},
   "source": [
    "This code handles the reflection of the ball if it collides with one of the boundary walls. The first line controls if it hits either the left or right wall, in which case it is reflected in the x-direction away from the wall. It uses the absolute value of the x-position of the ball, because the reflection is the same no matter which of the two it hits.  \n",
    "\n",
    "The next two if statements, on the other hand, handle the top and bottom boundary walls respectively. The top wall simply reflects the ball back in the y-direction. The bottom wall, instead of simply reflection the ball, gives it a random velocity instead. The y-component of the velocity is run through the abs() function to get the absolute value to prevent it from gaining a negative y veloctiy, which would take it below the boundary wall and break the game."
   ]
  },
  {
   "cell_type": "markdown",
   "metadata": {},
   "source": [
    "## Collision with the Boxes"
   ]
  },
  {
   "cell_type": "code",
   "execution_count": null,
   "metadata": {},
   "outputs": [],
   "source": [
    "#handles collisions    \n",
    "    for b in boxes:\n",
    "        #if the ball collides with the right side of the box\n",
    "        if (ball.pos.x-R <= b.pos.x+L/12) and (ball.pos.x+R >= b.pos.x+L/12) and (ball.pos.y > b.pos.y-L/20) and (ball.pos.y < b.pos.y+L/20) and b.visible == True:\n",
    "            b.visible = False\n",
    "            ball.v.x = -ball.v.x\n",
    "        #if the ball collides with the left side of the box    \n",
    "        elif (ball.pos.x-R <= b.pos.x-L/12) and (ball.pos.x+R >= b.pos.x-L/12) and (ball.pos.y > b.pos.y-L/20) and (ball.pos.y < b.pos.y+L/20) and b.visible == True:\n",
    "            b.visible = False\n",
    "            ball.v.x = -ball.v.x  \n",
    "        #if the ball collides with the top/bottom of the box\n",
    "        elif ((ball.pos.y+R) >= (b.pos.y-L/20)) and ((ball.pos.x) <= (L/12+b.pos.x) and (ball.pos.x) >= (b.pos.x-L/12)) and b.visible == True:\n",
    "            b.visible = False\n",
    "            ball.v.y = -ball.v.y    \n",
    "        \n",
    "        if b.visible == True:\n",
    "            still_left = True\n",
    "            \n",
    "t = t + dt"
   ]
  },
  {
   "cell_type": "markdown",
   "metadata": {},
   "source": [
    "This is the most complicated chunk of code in the program, and was the hardest to get right.  \n",
    "\n",
    "The first two if statements (or rather, the first if and elif) handle the ball colliding with either side of the box. It does this by checking if the y-position of the ball is within half the height (in either direction) of the box to ensure that it has the right row. It also checks if radius of the ball is simultaneously within and outside of the length of either side of the box.  \n",
    "\n",
    "If this is the case, it means that one side of the ball is touching the side of a box, while the other side is occupying space that would normally be occupied by another box. The program then knows that the ball is hitting the side of a box, reflects it in the x-direction, and makes the box invisible.  \n",
    "\n",
    "The third if statement (or second elif) determines if the ball collides with the top or bottom of the box. It does this by determining if the ball's radius is within the height of the box, then looks to see if the ball is fully within the length of the box. If both conditions are met, it makes the box invisible and reflects the ball in the y-direction.  \n",
    "\n",
    "All three statements also contain the parameter b.visible == True. This prevents the ball from reflecting off of boxes that have already been removed (set invisible).\n",
    "\n",
    "The final if statement is for the loop control variable. If, at any point, it detects that a box in the list boxes is still visible, it sets still_left to true, allowing the program to run through another iteration of the loop.\n",
    "\n",
    "The final statement updates the time step."
   ]
  },
  {
   "cell_type": "markdown",
   "metadata": {},
   "source": [
    "# The Final Program"
   ]
  },
  {
   "cell_type": "code",
   "execution_count": null,
   "metadata": {},
   "outputs": [
    {
     "data": {
      "text/html": [
       "<div id=\"glowscript\" class=\"glowscript\"></div>"
      ],
      "text/plain": [
       "<IPython.core.display.HTML object>"
      ]
     },
     "metadata": {},
     "output_type": "display_data"
    },
    {
     "data": {
      "application/javascript": [
       "if (typeof Jupyter !== \"undefined\") { window.__context = { glowscript_container: $(\"#glowscript\").removeAttr(\"id\")};}else{ element.textContent = ' ';}"
      ],
      "text/plain": [
       "<IPython.core.display.Javascript object>"
      ]
     },
     "metadata": {},
     "output_type": "display_data"
    },
    {
     "data": {
      "text/html": [
       "<div id=\"glowscript\" class=\"glowscript\"></div>"
      ],
      "text/plain": [
       "<IPython.core.display.HTML object>"
      ]
     },
     "metadata": {},
     "output_type": "display_data"
    },
    {
     "data": {
      "application/javascript": [
       "if (typeof Jupyter !== \"undefined\") { window.__context = { glowscript_container: $(\"#glowscript\").removeAttr(\"id\")};}else{ element.textContent = ' ';}"
      ],
      "text/plain": [
       "<IPython.core.display.Javascript object>"
      ]
     },
     "metadata": {},
     "output_type": "display_data"
    },
    {
     "data": {
      "application/javascript": [
       "if (typeof Jupyter !== \"undefined\") {require.undef(\"nbextensions/vpython_libraries/glow.min\");}else{element.textContent = ' ';}"
      ],
      "text/plain": [
       "<IPython.core.display.Javascript object>"
      ]
     },
     "metadata": {},
     "output_type": "display_data"
    },
    {
     "data": {
      "application/javascript": [
       "if (typeof Jupyter !== \"undefined\") {require.undef(\"nbextensions/vpython_libraries/glowcomm\");}else{element.textContent = ' ';}"
      ],
      "text/plain": [
       "<IPython.core.display.Javascript object>"
      ]
     },
     "metadata": {},
     "output_type": "display_data"
    },
    {
     "data": {
      "application/javascript": [
       "if (typeof Jupyter !== \"undefined\") {require.undef(\"nbextensions/vpython_libraries/jquery-ui.custom.min\");}else{element.textContent = ' ';}"
      ],
      "text/plain": [
       "<IPython.core.display.Javascript object>"
      ]
     },
     "metadata": {},
     "output_type": "display_data"
    },
    {
     "data": {
      "application/javascript": [
       "if (typeof Jupyter !== \"undefined\") {require([\"nbextensions/vpython_libraries/glow.min\"], function(){console.log(\"GLOW LOADED\");});}else{element.textContent = ' ';}"
      ],
      "text/plain": [
       "<IPython.core.display.Javascript object>"
      ]
     },
     "metadata": {},
     "output_type": "display_data"
    },
    {
     "data": {
      "application/javascript": [
       "if (typeof Jupyter !== \"undefined\") {require([\"nbextensions/vpython_libraries/glowcomm\"], function(){console.log(\"GLOWCOMM LOADED\");});}else{element.textContent = ' ';}"
      ],
      "text/plain": [
       "<IPython.core.display.Javascript object>"
      ]
     },
     "metadata": {},
     "output_type": "display_data"
    },
    {
     "data": {
      "application/javascript": [
       "if (typeof Jupyter !== \"undefined\") {require([\"nbextensions/vpython_libraries/jquery-ui.custom.min\"], function(){console.log(\"JQUERY LOADED\");});}else{element.textContent = ' ';}"
      ],
      "text/plain": [
       "<IPython.core.display.Javascript object>"
      ]
     },
     "metadata": {},
     "output_type": "display_data"
    }
   ],
   "source": [
    "import numpy as np\n",
    "import random as rand\n",
    "from vpython import *\n",
    "\n",
    "scene1 = canvas(title=\"Breakout\")\n",
    "\n",
    "\n",
    "#uses constants and wall objects from the gas collision as a base\n",
    "m = 1.7e-27\n",
    "R = 0.5e-10\n",
    "L = 40 * R\n",
    "thick = L/100\n",
    "cols = 6\n",
    "boxes = []\n",
    "\n",
    "#creates walls\n",
    "Lwall = box(pos = vec(-L/2,0,0), size = vec(thick, L, 0), color = color.white)\n",
    "Rwall = box(pos = vec(L/2,0,0), size = vec(thick, L, 0), color = color.white)\n",
    "Bwall = box(pos = vec(0,-L/2,0), size = vec(L, thick, 0), color = color.white)\n",
    "Twall = box(pos = vec(0, L/2, 0), size = vec(L, thick, 0), color=color.white)\n",
    "\n",
    "#creates boxes\n",
    "for x in range(0,cols):\n",
    "    newbox0 = box(pos = vec((-L/2)+(x*(L/6))+L/12,(0+(0*L/10)),0), size = vec(L/6,L/10,0), color = color.cyan)\n",
    "    newbox1 = box(pos = vec((-L/2)+(x*(L/6))+L/12,(0+(1*L/10)),0), size = vec(L/6,L/10,0), color = color.green)\n",
    "    newbox2 = box(pos = vec((-L/2)+(x*(L/6))+L/12,(0+(2*L/10)),0), size = vec(L/6,L/10,0), color = color.yellow)\n",
    "    newbox3 = box(pos = vec((-L/2)+(x*(L/6))+L/12,(0+(3*L/10)),0), size = vec(L/6,L/10,0), color = color.orange)\n",
    "    newbox4 = box(pos = vec((-L/2)+(x*(L/6))+L/12,(0+(4*L/10)),0), size = vec(L/6,L/10,0), color = color.red)\n",
    "    boxes.append(newbox0)\n",
    "    boxes.append(newbox1)\n",
    "    boxes.append(newbox2)\n",
    "    boxes.append(newbox3)\n",
    "    boxes.append(newbox4)\n",
    "\n",
    "#ball\n",
    "ball = sphere(pos = vec(0,-L/4,0), radius = R, color = color.red)\n",
    "\n",
    "#initial velocity\n",
    "s = 3000\n",
    "ball.v = s*hat(vec(2*rand.random()-1, 2*rand.random()-1, 0))\n",
    "\n",
    "#time\n",
    "t = 0\n",
    "dt = R/mag(ball.v)/10\n",
    "\n",
    "still_left = True\n",
    "\n",
    "scene1.pause()\n",
    "\n",
    "#starts scene\n",
    "while still_left:\n",
    "    rate(250)\n",
    "\n",
    "    #sets the loop control variable\n",
    "    #if an iteration of the loop completes with this set to false, the program ends\n",
    "    #this should only occur if all the boxes have been removed\n",
    "    still_left = False\n",
    "    \n",
    "    #updates ball's position, using the current velocity    \n",
    "    ball.pos = ball.pos + ball.v*dt\n",
    "    \n",
    "    if (abs(ball.pos.x) > L/2): #reflect in x-direction\n",
    "        ball.v.x = -ball.v.x\n",
    "    if (ball.pos.y > L/2): #reflect in y-direction\n",
    "        ball.v.y = -ball.v.y\n",
    "    if (ball.pos.y < - L/2): #reflects w/ random direction off the bottom\n",
    "        ball.v = s*hat(vec(2*rand.random()-1, abs(2*rand.random()-1),0))\n",
    "        \n",
    "    #handles collisions    \n",
    "    for b in boxes:\n",
    "        #if the ball collides with the right side of the box\n",
    "        if (ball.pos.x-R <= b.pos.x+L/12) and (ball.pos.x+R >= b.pos.x+L/12) and (ball.pos.y > b.pos.y-L/20) and (ball.pos.y < b.pos.y+L/20) and b.visible == True:\n",
    "            b.visible = False\n",
    "            ball.v.x = -ball.v.x\n",
    "        #if the ball collides with the left side of the box    \n",
    "        elif (ball.pos.x-R <= b.pos.x-L/12) and (ball.pos.x+R >= b.pos.x-L/12) and (ball.pos.y > b.pos.y-L/20) and (ball.pos.y < b.pos.y+L/20) and b.visible == True:\n",
    "            b.visible = False\n",
    "            ball.v.x = -ball.v.x  \n",
    "        #if the ball collides with the top/bottom of the box\n",
    "        elif ((ball.pos.y+R) >= (b.pos.y-L/20)) and ((ball.pos.x) <= (L/12+b.pos.x) and (ball.pos.x) >= (b.pos.x-L/12)) and b.visible == True:\n",
    "            b.visible = False\n",
    "            ball.v.y = -ball.v.y    \n",
    "        \n",
    "        if b.visible == True:\n",
    "            still_left = True\n",
    "\n",
    "    #updates time step\n",
    "    t = t + dt\n"
   ]
  }
 ],
 "metadata": {
  "kernelspec": {
   "display_name": "Python 3",
   "language": "python",
   "name": "python3"
  },
  "language_info": {
   "codemirror_mode": {
    "name": "ipython",
    "version": 3
   },
   "file_extension": ".py",
   "mimetype": "text/x-python",
   "name": "python",
   "nbconvert_exporter": "python",
   "pygments_lexer": "ipython3",
   "version": "3.8.5"
  }
 },
 "nbformat": 4,
 "nbformat_minor": 4
}
