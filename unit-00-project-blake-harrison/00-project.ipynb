{
 "cells": [
  {
   "cell_type": "markdown",
   "metadata": {},
   "source": [
    "# Unit 00 Project - Introduction to Python\n",
    "\n",
    "The purpose of this \"mini project\" is to demonstrate your understanding of Python syntax, in particular:\n",
    "\n",
    "- import\n",
    "- list\n",
    "- range object\n",
    "- `for` loop to iterate over a list or range\n",
    "- graph with matplotlib\n",
    "\n",
    "Your project should:\n",
    "\n",
    "- weave narrative with code.\n",
    "- include any relevant background theory with LaTeX to render mathematical notation.\n",
    "- demonstrate the techniques you learned in this unit.\n",
    "- discuss validation. What gives you confidence in your results?\n",
    "\n",
    "\n",
    "<div class=\"alert alert-success\">\n",
    "The tutorial should be of sufficient quality to post to github in your portfolio of work that can be shown to a potential employer.\n",
    "</div>\n",
    "\n",
    "## Grading Rubric\n",
    "\n",
    "Category | Poor (0-70%) | Good (70% - 85%) | Excellent (85%-100%)\n",
    ":---: | :--- | :--- | :---\n",
    "**Narrative** | There is very little narrative. Background information is not present or lacks detail. There is no story woven with the code. Mathematical markup is not used. No citations are included. | There is a narrative, but significant parts are missing. The writing does not flow. Sections headings are sparse. Mathematical markup is poor or insufficient. More and better citations are needed. | There is flow, and a clear storyline. Section headings are used to provide an outline. Mathematical markup is used correctly and sufficiently to display mathematics. Citations are sufficient in number and quality.\n",
    "**Code** | Code is missing or is not functional. Nothing is done to demonstrate that the code is operating correctly. Code is difficult to read. Results are missing or seriously incomplete. Visualization is not included. Units are inconsistent or incorrect. Algorithm is implemented incorrectly or the wrong algorithm chosen. There is significant error. | Code is mostly correct and the implementation or algorithm is a good method to use. Visualization is present, but titles and axes labels need improvement or visualization can be improved. Code is understandable and somewhat commented. Units are mostly consistent and correct.| The code runs flawlessly and is well-organized. The code is easy to read and understand. Units are indicated, consistent, and correct. Visualization is excellent. Techniques and algorithms are well-chosen and correctly implemented. Results are clear and understandable.\n",
    "**Difficulty** | The difficulty level is far beneath what one is capable of | The difficulty level is beneath what one is capable of. | The difficulty is well-matched to one's ablity.\n",
    "\n",
    "<div class=\"alert alert-success\">\n",
    "Your project should be in a separate notebook in this repository. You may write VPython programs in a separate `.py` file if this is more effective than including it in the notebook.\n",
    "</div>"
   ]
  },
  {
   "cell_type": "markdown",
   "metadata": {},
   "source": [
    "## Project Ideas"
   ]
  },
  {
   "cell_type": "markdown",
   "metadata": {},
   "source": [
    "### Option 1\n",
    "\n",
    "Improve the hard-sphere gas program from class. (See Dr. T for details; e.g. find the time of the collision during a time interval). Use `matplotlib` to plot a histogram of particle speeds. Here's one example. The distribution will depend on the initial kinetic energy of all the atoms. So your distribution will not exactly like this one. But the shape should be similar.\n",
    "\n",
    "![](histogram.png)"
   ]
  },
  {
   "cell_type": "markdown",
   "metadata": {},
   "source": [
    "### Option 2\n",
    "\n",
    "Create the game breakout. Instead of using a paddle, let the ball bounce off the \"floor\" and give it a random velocity after each bounce off the floor. Remove a brick each time the ball collides with it. The ball should collide elastically with the bricks and side walls. If you want to add a paddle with keyboard control, see Dr. T.\n",
    "\n",
    "![](breakout.png)\n",
    "(Image credit: [Wikipedia](https://en.wikipedia.org/wiki/File:Breakout_game_screenshot.png))"
   ]
  },
  {
   "cell_type": "markdown",
   "metadata": {},
   "source": [
    "### Option 3\n",
    "\n",
    "Create your own program that meets the objectives of this project."
   ]
  },
  {
   "cell_type": "code",
   "execution_count": null,
   "metadata": {},
   "outputs": [],
   "source": []
  }
 ],
 "metadata": {
  "kernelspec": {
   "display_name": "Python 3",
   "language": "python",
   "name": "python3"
  },
  "language_info": {
   "codemirror_mode": {
    "name": "ipython",
    "version": 3
   },
   "file_extension": ".py",
   "mimetype": "text/x-python",
   "name": "python",
   "nbconvert_exporter": "python",
   "pygments_lexer": "ipython3",
   "version": "3.8.5"
  }
 },
 "nbformat": 4,
 "nbformat_minor": 4
}
