{
 "cells": [
  {
   "cell_type": "markdown",
   "metadata": {},
   "source": [
    "# Semester Project\n",
    "\n",
    "The last two weeks (including the final exam time) will be spent on final projects and presentations. You may develop, solve, and present a computational model. Or, you may review and solve models in the literature, comparing your results to expected results. In this way, you will be able to select and solve a computational model of your interest.\n",
    "\n",
    "There are five categories that the project's grade is based on.\n",
    "\n",
    "1. level of difficulty\n",
    "  - How does your project compare to a typical unit project performed in this class in terms of difficulty? It should be more difficult than a typical unit project.\n",
    "  - What problems did you have to overcome in completing your project?\n",
    "1. level of creativity\n",
    "  - Is your project interesting?\n",
    "  - What novel ideas did you have?\n",
    "1. level of independence\n",
    "  - What % of your project did you write and what % was based on others' work?\n",
    "  - Did you use example code or project ideas from others and did you cite their work?\n",
    "  - What aspects of the project were uniquely yours?\n",
    "1. completeness\n",
    "  - Did your program work?\n",
    "  - Did you \"go the extra mile\" to achieve excellence in your project?\n",
    "  - Are there clear areas of your project that you should have done to make the project more interesting or more useful?\n",
    "  - Did you clearly state your goal and did you clearly achieve your goal?\n",
    "1. quality of your presentation\n",
    "  - How would a potential employer judge your github repository?\n",
    "  - What is the quality of your github repository?\n",
    "  - What is the quality of your oral presentation?\n",
    "  \n",
    "## Due Date\n",
    "  \n",
    "Presentations of projects will be on Monday, May 3, 3:30 -- 6:30PM. Your project should be in a notebook.\n",
    "\n",
    "Your final presentation notebook and portfolio will be due at 11:59 PM on May 4."
   ]
  },
  {
   "cell_type": "code",
   "execution_count": null,
   "metadata": {},
   "outputs": [],
   "source": []
  }
 ],
 "metadata": {
  "kernelspec": {
   "display_name": "Python 3",
   "language": "python",
   "name": "python3"
  },
  "language_info": {
   "codemirror_mode": {
    "name": "ipython",
    "version": 3
   },
   "file_extension": ".py",
   "mimetype": "text/x-python",
   "name": "python",
   "nbconvert_exporter": "python",
   "pygments_lexer": "ipython3",
   "version": "3.8.5"
  }
 },
 "nbformat": 4,
 "nbformat_minor": 2
}
